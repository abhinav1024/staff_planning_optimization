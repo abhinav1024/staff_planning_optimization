{
 "cells": [
  {
   "cell_type": "markdown",
   "metadata": {},
   "source": [
    "# Staff Planning Optimization Case Study\n",
    "Case Study project submitted by Saurabh Pai & Abhinav Choudhary"
   ]
  },
  {
   "cell_type": "markdown",
   "metadata": {},
   "source": [
    "### Business Objective:\n",
    "An insurance company InsurePlus wants to find the optimal number of staff that they need for their insurance application approval process for the calendar year 2021.\n",
    "The objective is to optimize the total cost for the application approval process by distributing the right number of applications between the FTEs and the vendors while meeting the monthly demand for each state at the same time.\n"
   ]
  },
  {
   "cell_type": "code",
   "execution_count": 1,
   "metadata": {},
   "outputs": [],
   "source": [
    "# Importing Libraries \n",
    "\n",
    "import pandas as pd\n",
    "import numpy as np\n",
    "import math\n",
    "from pyomo.environ import *"
   ]
  },
  {
   "cell_type": "code",
   "execution_count": 2,
   "metadata": {},
   "outputs": [],
   "source": [
    "from __future__ import division\n",
    "from pyomo.opt import SolverFactory"
   ]
  },
  {
   "cell_type": "code",
   "execution_count": 3,
   "metadata": {},
   "outputs": [],
   "source": [
    "# Reading the data from Excel workbook\n",
    "filename = 'Staffing+Data.xlsx'\n",
    "demandData = pd.read_excel(filename, sheet_name='DemandData')\n",
    "staffAv = pd.read_excel(filename, sheet_name='StaffAvailability')\n",
    "cost = pd.read_excel(filename, sheet_name='Cost')\n",
    "serviceRate = pd.read_excel(filename, sheet_name='ServiceRate')"
   ]
  },
  {
   "cell_type": "code",
   "execution_count": 4,
   "metadata": {},
   "outputs": [
    {
     "data": {
      "text/html": [
       "<div>\n",
       "<style scoped>\n",
       "    .dataframe tbody tr th:only-of-type {\n",
       "        vertical-align: middle;\n",
       "    }\n",
       "\n",
       "    .dataframe tbody tr th {\n",
       "        vertical-align: top;\n",
       "    }\n",
       "\n",
       "    .dataframe thead th {\n",
       "        text-align: right;\n",
       "    }\n",
       "</style>\n",
       "<table border=\"1\" class=\"dataframe\">\n",
       "  <thead>\n",
       "    <tr style=\"text-align: right;\">\n",
       "      <th></th>\n",
       "      <th>State</th>\n",
       "      <th>Month</th>\n",
       "      <th>Demand</th>\n",
       "    </tr>\n",
       "  </thead>\n",
       "  <tbody>\n",
       "    <tr>\n",
       "      <th>0</th>\n",
       "      <td>A</td>\n",
       "      <td>Jan</td>\n",
       "      <td>5240</td>\n",
       "    </tr>\n",
       "    <tr>\n",
       "      <th>1</th>\n",
       "      <td>A</td>\n",
       "      <td>Feb</td>\n",
       "      <td>4878</td>\n",
       "    </tr>\n",
       "    <tr>\n",
       "      <th>2</th>\n",
       "      <td>A</td>\n",
       "      <td>Mar</td>\n",
       "      <td>5942</td>\n",
       "    </tr>\n",
       "    <tr>\n",
       "      <th>3</th>\n",
       "      <td>A</td>\n",
       "      <td>Apr</td>\n",
       "      <td>2297</td>\n",
       "    </tr>\n",
       "    <tr>\n",
       "      <th>4</th>\n",
       "      <td>A</td>\n",
       "      <td>May</td>\n",
       "      <td>1992</td>\n",
       "    </tr>\n",
       "  </tbody>\n",
       "</table>\n",
       "</div>"
      ],
      "text/plain": [
       "  State Month  Demand\n",
       "0     A   Jan    5240\n",
       "1     A   Feb    4878\n",
       "2     A   Mar    5942\n",
       "3     A   Apr    2297\n",
       "4     A   May    1992"
      ]
     },
     "execution_count": 4,
     "metadata": {},
     "output_type": "execute_result"
    }
   ],
   "source": [
    "demandData.head()"
   ]
  },
  {
   "cell_type": "code",
   "execution_count": 5,
   "metadata": {},
   "outputs": [
    {
     "data": {
      "text/html": [
       "<div>\n",
       "<style scoped>\n",
       "    .dataframe tbody tr th:only-of-type {\n",
       "        vertical-align: middle;\n",
       "    }\n",
       "\n",
       "    .dataframe tbody tr th {\n",
       "        vertical-align: top;\n",
       "    }\n",
       "\n",
       "    .dataframe thead th {\n",
       "        text-align: right;\n",
       "    }\n",
       "</style>\n",
       "<table border=\"1\" class=\"dataframe\">\n",
       "  <thead>\n",
       "    <tr style=\"text-align: right;\">\n",
       "      <th></th>\n",
       "      <th>State</th>\n",
       "      <th>Month</th>\n",
       "      <th>LB</th>\n",
       "      <th>UB</th>\n",
       "      <th>StaffAvPer</th>\n",
       "    </tr>\n",
       "  </thead>\n",
       "  <tbody>\n",
       "    <tr>\n",
       "      <th>0</th>\n",
       "      <td>A</td>\n",
       "      <td>Jan</td>\n",
       "      <td>0.70</td>\n",
       "      <td>0.90</td>\n",
       "      <td>0.81</td>\n",
       "    </tr>\n",
       "    <tr>\n",
       "      <th>1</th>\n",
       "      <td>A</td>\n",
       "      <td>Feb</td>\n",
       "      <td>0.65</td>\n",
       "      <td>0.85</td>\n",
       "      <td>0.76</td>\n",
       "    </tr>\n",
       "    <tr>\n",
       "      <th>2</th>\n",
       "      <td>A</td>\n",
       "      <td>Mar</td>\n",
       "      <td>0.70</td>\n",
       "      <td>0.80</td>\n",
       "      <td>0.75</td>\n",
       "    </tr>\n",
       "    <tr>\n",
       "      <th>3</th>\n",
       "      <td>A</td>\n",
       "      <td>Apr</td>\n",
       "      <td>0.75</td>\n",
       "      <td>0.85</td>\n",
       "      <td>0.80</td>\n",
       "    </tr>\n",
       "    <tr>\n",
       "      <th>4</th>\n",
       "      <td>A</td>\n",
       "      <td>May</td>\n",
       "      <td>0.70</td>\n",
       "      <td>0.85</td>\n",
       "      <td>0.78</td>\n",
       "    </tr>\n",
       "  </tbody>\n",
       "</table>\n",
       "</div>"
      ],
      "text/plain": [
       "  State Month    LB    UB  StaffAvPer\n",
       "0     A   Jan  0.70  0.90        0.81\n",
       "1     A   Feb  0.65  0.85        0.76\n",
       "2     A   Mar  0.70  0.80        0.75\n",
       "3     A   Apr  0.75  0.85        0.80\n",
       "4     A   May  0.70  0.85        0.78"
      ]
     },
     "execution_count": 5,
     "metadata": {},
     "output_type": "execute_result"
    }
   ],
   "source": [
    "staffAv.head()"
   ]
  },
  {
   "cell_type": "code",
   "execution_count": 6,
   "metadata": {},
   "outputs": [
    {
     "data": {
      "text/html": [
       "<div>\n",
       "<style scoped>\n",
       "    .dataframe tbody tr th:only-of-type {\n",
       "        vertical-align: middle;\n",
       "    }\n",
       "\n",
       "    .dataframe tbody tr th {\n",
       "        vertical-align: top;\n",
       "    }\n",
       "\n",
       "    .dataframe thead th {\n",
       "        text-align: right;\n",
       "    }\n",
       "</style>\n",
       "<table border=\"1\" class=\"dataframe\">\n",
       "  <thead>\n",
       "    <tr style=\"text-align: right;\">\n",
       "      <th></th>\n",
       "      <th>State</th>\n",
       "      <th>Month</th>\n",
       "      <th>AnnualSalary</th>\n",
       "      <th>MonthlySalary</th>\n",
       "      <th>UnitOutSourceCost</th>\n",
       "    </tr>\n",
       "  </thead>\n",
       "  <tbody>\n",
       "    <tr>\n",
       "      <th>0</th>\n",
       "      <td>A</td>\n",
       "      <td>Jan</td>\n",
       "      <td>60000</td>\n",
       "      <td>5000.0</td>\n",
       "      <td>180</td>\n",
       "    </tr>\n",
       "    <tr>\n",
       "      <th>1</th>\n",
       "      <td>A</td>\n",
       "      <td>Feb</td>\n",
       "      <td>60000</td>\n",
       "      <td>5000.0</td>\n",
       "      <td>180</td>\n",
       "    </tr>\n",
       "    <tr>\n",
       "      <th>2</th>\n",
       "      <td>A</td>\n",
       "      <td>Mar</td>\n",
       "      <td>60000</td>\n",
       "      <td>5000.0</td>\n",
       "      <td>180</td>\n",
       "    </tr>\n",
       "    <tr>\n",
       "      <th>3</th>\n",
       "      <td>A</td>\n",
       "      <td>Apr</td>\n",
       "      <td>60000</td>\n",
       "      <td>5000.0</td>\n",
       "      <td>180</td>\n",
       "    </tr>\n",
       "    <tr>\n",
       "      <th>4</th>\n",
       "      <td>A</td>\n",
       "      <td>May</td>\n",
       "      <td>60000</td>\n",
       "      <td>5000.0</td>\n",
       "      <td>180</td>\n",
       "    </tr>\n",
       "  </tbody>\n",
       "</table>\n",
       "</div>"
      ],
      "text/plain": [
       "  State Month  AnnualSalary  MonthlySalary  UnitOutSourceCost\n",
       "0     A   Jan         60000         5000.0                180\n",
       "1     A   Feb         60000         5000.0                180\n",
       "2     A   Mar         60000         5000.0                180\n",
       "3     A   Apr         60000         5000.0                180\n",
       "4     A   May         60000         5000.0                180"
      ]
     },
     "execution_count": 6,
     "metadata": {},
     "output_type": "execute_result"
    }
   ],
   "source": [
    "cost.head()"
   ]
  },
  {
   "cell_type": "code",
   "execution_count": 7,
   "metadata": {
    "scrolled": true
   },
   "outputs": [
    {
     "data": {
      "text/plain": [
       "40"
      ]
     },
     "execution_count": 7,
     "metadata": {},
     "output_type": "execute_result"
    }
   ],
   "source": [
    "serviceRate['MgAppServedPerMonth'][0]"
   ]
  },
  {
   "cell_type": "markdown",
   "metadata": {},
   "source": [
    "## Data Pre-Processing "
   ]
  },
  {
   "cell_type": "markdown",
   "metadata": {},
   "source": [
    "#### Creating the required Python data structures for Indexes and Parameters"
   ]
  },
  {
   "cell_type": "code",
   "execution_count": 8,
   "metadata": {},
   "outputs": [],
   "source": [
    "# Defining Indexes\n",
    "BankLoc = demandData['State'].unique()\n",
    "BankLoc = BankLoc.tolist()\n",
    "\n",
    "Month = demandData['Month'].unique()\n",
    "Month = Month.tolist()"
   ]
  },
  {
   "cell_type": "code",
   "execution_count": 9,
   "metadata": {},
   "outputs": [],
   "source": [
    "# Defining Parameters for Demand\n",
    "demand = demandData.set_index(['State','Month'])['Demand'].to_dict()"
   ]
  },
  {
   "cell_type": "code",
   "execution_count": 10,
   "metadata": {},
   "outputs": [],
   "source": [
    "# Defining Parameters for Cost\n",
    "FTE_monthlySalary = cost.set_index(['State','Month'])['MonthlySalary'].to_dict()\n",
    "unitOutSourceCost = cost.set_index(['State','Month'])['UnitOutSourceCost'].to_dict()"
   ]
  },
  {
   "cell_type": "code",
   "execution_count": 11,
   "metadata": {},
   "outputs": [],
   "source": [
    "# Defining Parameters for Staff Availability\n",
    "staffAvPer = staffAv.set_index(['State','Month'])['StaffAvPer'].to_dict()\n",
    "staffAvPer_LB = staffAv.set_index(['State','Month'])['LB'].to_dict()\n",
    "staffAvPer_UB = staffAv.set_index(['State','Month'])['UB'].to_dict()"
   ]
  },
  {
   "cell_type": "code",
   "execution_count": 12,
   "metadata": {},
   "outputs": [],
   "source": [
    "# Defining Parameters for FTE service Rate\n",
    "FTE_serviceRate = serviceRate['MgAppServedPerMonth'][0]"
   ]
  },
  {
   "cell_type": "code",
   "execution_count": null,
   "metadata": {},
   "outputs": [],
   "source": []
  },
  {
   "cell_type": "markdown",
   "metadata": {},
   "source": [
    "# Question 1\n",
    "\n",
    "The company wants to know the optimised staffing recommendations for the business case described. \n",
    "Write the mathematical model for the deterministic optimisation problem. Define and explain your decision variables, objective function and the constraint. (Hint: Use months of the year as the model timeline).\n",
    "\n"
   ]
  },
  {
   "cell_type": "markdown",
   "metadata": {},
   "source": [
    "##  Mathematical formulation / Pyomo components\n",
    "\n",
    "---\n",
    "\n",
    "**Sets:** \n",
    "\n",
    "The indexes for the given problem are, <br>\n",
    "- State, $s \\in state$\n",
    "- Month, $m \\in month$\n",
    "\n",
    "---\n",
    "\n",
    "**Parameters:** \n",
    "\n",
    "- $\\text{demand}_{s,m} \\text{ - Number of applications expected for 2021}$ <br>\n",
    "- $\\text{FTE_monthlySalary}_{s,m} \\text{ - Average Monthly Salary Per Staff}$ <br>\n",
    "- $\\text{unitOutSourceCost}_{s,m} \\text{ - Cost per application for Vendor}$ <br>\n",
    "- $\\text{staffAvPer}_{s, m} \\text{ - Average availability of an FTE}$ <br>\n",
    "- $\\text{FTE_serviceRate}_{s, m} \\text{ - Number of insurance applications that can be processed by an FTE per month with 100% availability}$ <br>\n",
    "\n",
    "\n",
    "---\n",
    "\n",
    "**Decision variables:**\n",
    "- Total number of FTE utilized per State per month <br>\n",
    "\n",
    "> ${MonthlyFTE}_{s,m} \\,\\,\\,\\,\\,\\,\\, \\text{where} \\ s \\in state, m \\in month $<br>\n",
    "\n",
    "- Total number of applications outsourced per State per month <br>\n",
    "\n",
    "> ${MonthlyOutsource}_{s,m} \\,\\,\\,\\,\\,\\,\\, \\text{where} \\ s \\in state, m \\in month $<br>\n",
    "\n",
    "\n",
    "---\n",
    "\n",
    "**Objective:** <br>\n",
    "\n",
    "To minimize total cost of processing all the applictions as projected by the Demand.\n",
    "\n",
    "\n",
    "\n",
    "\\begin{align}\n",
    "\\textrm{min} \\Bigg[\\sum \\limits _{s,m} \\text{MonthlyFTE}_{s,m}*\\text{FTE_monthlySalary}_{s,m}  + \\sum \\limits _{s,m} \\text{MonthlyOutsource}_{s,m}* \\text{unitOutSourceCost}_{s,m} \\Bigg]\n",
    "\\end{align}\n",
    "where $s \\in state$ and $m \\in month$\n",
    "\n",
    "---\n",
    "\n",
    "**Constraints:**\n",
    "\n",
    "\n",
    "\n",
    "*   All the applications need to be processed every Month for each State\n",
    "\n",
    "\n",
    ">- $\\text{MonthlyFTE}_{s,m}*\\text{staffAvPer}_{s,m}*\\text{FTE_serviceRate}_{s,m}+\\text{MonthlyOutsource}_{s,m} =\\text{demand}_{s,m}\\ \\ \\ \\ \\forall {s \\in state, m \\in month}$\n",
    "\n",
    "\n",
    "*   Maximum applications outsourced for State A\n",
    "\n",
    "\n",
    ">- $\\text{MonthlyOutsource}_{A,m} \\leq\\text{demand}_{A,m}*0.3\\ \\ \\ \\ \\forall {m \\in month}$\n",
    "\n",
    "\n",
    "*   Maximum applications outsourced for State B\n",
    "\n",
    "\n",
    ">- $\\text{MonthlyOutsource}_{B,m} \\leq\\text{demand}_{B,m}*0.4\\ \\ \\ \\ \\forall {m \\in month}$\n",
    "\n",
    "----\n"
   ]
  },
  {
   "cell_type": "markdown",
   "metadata": {},
   "source": [
    "# Question 2\n",
    "\n",
    "Code the problem is Python and use any optimization package to solve it. Add comments to your code to explain each step. "
   ]
  },
  {
   "cell_type": "markdown",
   "metadata": {},
   "source": [
    "#### Expected output:\n",
    "\n",
    "Create a data frame containing the number of outsourced applications  and the number of FTEs for each state-month combination. You can choose to have extra columns like staff availability, demand etc. in your dataframe apart from the ones mentioned earlier. "
   ]
  },
  {
   "cell_type": "code",
   "execution_count": 13,
   "metadata": {},
   "outputs": [],
   "source": [
    "# Creating a model instance\n",
    "model = ConcreteModel()"
   ]
  },
  {
   "cell_type": "code",
   "execution_count": 14,
   "metadata": {},
   "outputs": [],
   "source": [
    "# Define Pyomo sets/Indexes and Parameters -> Already defined in Data Pre-processing"
   ]
  },
  {
   "cell_type": "code",
   "execution_count": 15,
   "metadata": {},
   "outputs": [],
   "source": [
    "# Decision variables\n",
    "# FTE Work Force\n",
    "model.MonthlyFTE = Var(BankLoc, Month, domain=NonNegativeReals)\n",
    "\n",
    "# No. of applications outsourced\n",
    "model.MonthlyOutsource = Var(BankLoc, Month, domain=NonNegativeIntegers)"
   ]
  },
  {
   "cell_type": "code",
   "execution_count": 16,
   "metadata": {},
   "outputs": [],
   "source": [
    "# Defining Objective Function\n",
    "\n",
    "def obj_rule(model):\n",
    "    return(sum(model.MonthlyFTE[i,j]*FTE_monthlySalary[i,j] for i in BankLoc for j in Month) + \n",
    "           sum(model.MonthlyOutsource[i,j]*unitOutSourceCost[i,j] for i in BankLoc for j in Month))\n",
    "\n",
    "model.value = Objective(rule=obj_rule, sense=minimize)"
   ]
  },
  {
   "cell_type": "code",
   "execution_count": 17,
   "metadata": {
    "scrolled": false
   },
   "outputs": [],
   "source": [
    "# Defining Constraints\n",
    "\n",
    "# Demand Constraint\n",
    "def fulfill_demand(model,i,j):\n",
    "    return (model.MonthlyFTE[i,j]*staffAvPer[i,j]*FTE_serviceRate + model.MonthlyOutsource[i,j]) == demand[i,j]\n",
    "\n",
    "model.match_demand = Constraint(BankLoc,Month,rule=fulfill_demand)"
   ]
  },
  {
   "cell_type": "code",
   "execution_count": 18,
   "metadata": {},
   "outputs": [],
   "source": [
    "# Regulatory Constraint for outsourced applications for State A\n",
    "\n",
    "def reg_restrict_state_A(model,j):\n",
    "    return (model.MonthlyOutsource['A',j] <= demand['A',j]*0.3)\n",
    "    \n",
    "model.reg_state_A = Constraint(Month,rule=reg_restrict_state_A)\n",
    "\n",
    "\n",
    "# Regulatory Constraint for outsourced applications for State B\n",
    "\n",
    "def reg_restrict_state_B(model,j):\n",
    "    return (model.MonthlyOutsource['B',j] <= demand['B',j]*0.4)\n",
    "    \n",
    "model.reg_state_B = Constraint(Month,rule=reg_restrict_state_B)"
   ]
  },
  {
   "cell_type": "code",
   "execution_count": 19,
   "metadata": {},
   "outputs": [],
   "source": [
    "# Invoking the solver\n",
    "result = SolverFactory('glpk').solve(model)"
   ]
  },
  {
   "cell_type": "code",
   "execution_count": 20,
   "metadata": {},
   "outputs": [
    {
     "data": {
      "text/plain": [
       "17962336.448769882"
      ]
     },
     "execution_count": 20,
     "metadata": {},
     "output_type": "execute_result"
    }
   ],
   "source": [
    "# Print the value of the objective function\n",
    "model.value()"
   ]
  },
  {
   "cell_type": "markdown",
   "metadata": {},
   "source": [
    "**`Checkpoint 1:`** Seems like the company has to spend around 17.9 m$ in total for the application approval process."
   ]
  },
  {
   "cell_type": "code",
   "execution_count": 21,
   "metadata": {},
   "outputs": [
    {
     "data": {
      "text/html": [
       "<div>\n",
       "<style scoped>\n",
       "    .dataframe tbody tr th:only-of-type {\n",
       "        vertical-align: middle;\n",
       "    }\n",
       "\n",
       "    .dataframe tbody tr th {\n",
       "        vertical-align: top;\n",
       "    }\n",
       "\n",
       "    .dataframe thead th {\n",
       "        text-align: right;\n",
       "    }\n",
       "</style>\n",
       "<table border=\"1\" class=\"dataframe\">\n",
       "  <thead>\n",
       "    <tr style=\"text-align: right;\">\n",
       "      <th></th>\n",
       "      <th>State</th>\n",
       "      <th>Month</th>\n",
       "      <th>Demand</th>\n",
       "      <th>Staff_Availability</th>\n",
       "      <th>FTEs</th>\n",
       "      <th>Outsourced_Applications</th>\n",
       "    </tr>\n",
       "  </thead>\n",
       "  <tbody>\n",
       "    <tr>\n",
       "      <th>0</th>\n",
       "      <td>A</td>\n",
       "      <td>Jan</td>\n",
       "      <td>5240</td>\n",
       "      <td>0.81</td>\n",
       "      <td>161.728395</td>\n",
       "      <td>0.0</td>\n",
       "    </tr>\n",
       "    <tr>\n",
       "      <th>1</th>\n",
       "      <td>A</td>\n",
       "      <td>Feb</td>\n",
       "      <td>4878</td>\n",
       "      <td>0.76</td>\n",
       "      <td>160.460526</td>\n",
       "      <td>0.0</td>\n",
       "    </tr>\n",
       "    <tr>\n",
       "      <th>2</th>\n",
       "      <td>A</td>\n",
       "      <td>Mar</td>\n",
       "      <td>5942</td>\n",
       "      <td>0.75</td>\n",
       "      <td>198.066667</td>\n",
       "      <td>0.0</td>\n",
       "    </tr>\n",
       "    <tr>\n",
       "      <th>3</th>\n",
       "      <td>A</td>\n",
       "      <td>Apr</td>\n",
       "      <td>2297</td>\n",
       "      <td>0.80</td>\n",
       "      <td>71.781250</td>\n",
       "      <td>0.0</td>\n",
       "    </tr>\n",
       "    <tr>\n",
       "      <th>4</th>\n",
       "      <td>A</td>\n",
       "      <td>May</td>\n",
       "      <td>1992</td>\n",
       "      <td>0.78</td>\n",
       "      <td>63.846154</td>\n",
       "      <td>0.0</td>\n",
       "    </tr>\n",
       "    <tr>\n",
       "      <th>5</th>\n",
       "      <td>A</td>\n",
       "      <td>Jun</td>\n",
       "      <td>2275</td>\n",
       "      <td>0.73</td>\n",
       "      <td>77.910959</td>\n",
       "      <td>0.0</td>\n",
       "    </tr>\n",
       "    <tr>\n",
       "      <th>6</th>\n",
       "      <td>A</td>\n",
       "      <td>Jul</td>\n",
       "      <td>5334</td>\n",
       "      <td>0.68</td>\n",
       "      <td>137.279412</td>\n",
       "      <td>1600.0</td>\n",
       "    </tr>\n",
       "    <tr>\n",
       "      <th>7</th>\n",
       "      <td>A</td>\n",
       "      <td>Aug</td>\n",
       "      <td>3371</td>\n",
       "      <td>0.76</td>\n",
       "      <td>110.888158</td>\n",
       "      <td>0.0</td>\n",
       "    </tr>\n",
       "    <tr>\n",
       "      <th>8</th>\n",
       "      <td>A</td>\n",
       "      <td>Sep</td>\n",
       "      <td>3759</td>\n",
       "      <td>0.81</td>\n",
       "      <td>116.018519</td>\n",
       "      <td>0.0</td>\n",
       "    </tr>\n",
       "    <tr>\n",
       "      <th>9</th>\n",
       "      <td>A</td>\n",
       "      <td>Oct</td>\n",
       "      <td>3529</td>\n",
       "      <td>0.73</td>\n",
       "      <td>120.856164</td>\n",
       "      <td>0.0</td>\n",
       "    </tr>\n",
       "  </tbody>\n",
       "</table>\n",
       "</div>"
      ],
      "text/plain": [
       "  State Month  Demand  Staff_Availability        FTEs  Outsourced_Applications\n",
       "0     A   Jan    5240                0.81  161.728395                      0.0\n",
       "1     A   Feb    4878                0.76  160.460526                      0.0\n",
       "2     A   Mar    5942                0.75  198.066667                      0.0\n",
       "3     A   Apr    2297                0.80   71.781250                      0.0\n",
       "4     A   May    1992                0.78   63.846154                      0.0\n",
       "5     A   Jun    2275                0.73   77.910959                      0.0\n",
       "6     A   Jul    5334                0.68  137.279412                   1600.0\n",
       "7     A   Aug    3371                0.76  110.888158                      0.0\n",
       "8     A   Sep    3759                0.81  116.018519                      0.0\n",
       "9     A   Oct    3529                0.73  120.856164                      0.0"
      ]
     },
     "execution_count": 21,
     "metadata": {},
     "output_type": "execute_result"
    }
   ],
   "source": [
    "# Creating dataframe for the results\n",
    "Staff_Plan = []\n",
    "for i in BankLoc:\n",
    "    for j in Month:\n",
    "        dmd = demand[i,j]\n",
    "        stAv = staffAvPer[i,j]\n",
    "        fte = model.MonthlyFTE[i,j].value\n",
    "        outapp = model.MonthlyOutsource[i,j].value\n",
    "        Staff_Plan.append([i,j,dmd,stAv,fte,outapp]) # making a list of lists\n",
    "        \n",
    "Staff_Plan = pd.DataFrame(Staff_Plan, columns=['State','Month','Demand','Staff_Availability','FTEs','Outsourced_Applications'])\n",
    "Staff_Plan.head(10)"
   ]
  },
  {
   "cell_type": "code",
   "execution_count": 22,
   "metadata": {},
   "outputs": [],
   "source": [
    "# Writing the results in to an Excel sheet\n",
    "Staff_Plan.to_excel('Staff_Planning.xlsx', sheet_name='Staff_Plan')"
   ]
  },
  {
   "cell_type": "code",
   "execution_count": 23,
   "metadata": {},
   "outputs": [
    {
     "data": {
      "text/plain": [
       "18.31"
      ]
     },
     "execution_count": 23,
     "metadata": {},
     "output_type": "execute_result"
    }
   ],
   "source": [
    "# Percentage of outsourced applications\n",
    "PercentOutsourcedApp = ((Staff_Plan['Outsourced_Applications'].sum()/Staff_Plan['Demand'].sum())* 100).round(2)\n",
    "PercentOutsourcedApp"
   ]
  },
  {
   "cell_type": "code",
   "execution_count": 24,
   "metadata": {},
   "outputs": [
    {
     "data": {
      "text/plain": [
       "158.55"
      ]
     },
     "execution_count": 24,
     "metadata": {},
     "output_type": "execute_result"
    }
   ],
   "source": [
    "# Average cost per application\n",
    "AvgCostPerApp = (model.value()/Staff_Plan['Demand'].sum()).round(2)\n",
    "AvgCostPerApp"
   ]
  },
  {
   "cell_type": "markdown",
   "metadata": {},
   "source": [
    "# Question 3\n",
    "\n",
    "#### Worst-case and best-case analysis based on the staffs' availability.\n",
    "\n",
    "Assuming that the distribution is the same across all the states,\n",
    "\n",
    "#### 3.1 Worst case analysis \n",
    "\n",
    "- 3.1.1 What is the optimal number of staff members for the worst case? \n",
    "\n",
    "- 3.1.2 What is the percentage of outsourcing for the worst case? \n",
    "\n",
    "- 3.1.3 What is the average cost per application for the worst case?\n",
    "\n",
    "\n",
    "#### 3.2 Best case analysis \n",
    "\n",
    "- 3.2.1 What is the optimal number of staff members for the best case? \n",
    "\n",
    "- 3.2.2 What is the percentage of outsourcing for the best case? \n",
    "\n",
    "- 3.2.3 What is the average cost per application for the best case?\n"
   ]
  },
  {
   "cell_type": "markdown",
   "metadata": {},
   "source": [
    "#### Expected output:\n",
    "\n",
    "For each of the subtasks (3.1 and 3.2) create a data frame containing the number of outsourced applications and the number of FTEs for each state-month combination. You can choose to have extra columns like staff availability, demand etc. in your dataframe apart from the ones mentioned earlier. Also, print the overall average percentage of outsourced applications and the overall average cost per application. "
   ]
  },
  {
   "cell_type": "markdown",
   "metadata": {},
   "source": [
    "### 3.1 Worst Case Analysis "
   ]
  },
  {
   "cell_type": "markdown",
   "metadata": {},
   "source": [
    "#### 3.1.1 Optimal number of staff members"
   ]
  },
  {
   "cell_type": "code",
   "execution_count": 25,
   "metadata": {},
   "outputs": [],
   "source": [
    "# Creating a model instance\n",
    "model = ConcreteModel()"
   ]
  },
  {
   "cell_type": "code",
   "execution_count": 26,
   "metadata": {},
   "outputs": [],
   "source": [
    "# Define Pyomo sets and Parameters -> Already defined in Data Pre-processing"
   ]
  },
  {
   "cell_type": "code",
   "execution_count": 27,
   "metadata": {},
   "outputs": [],
   "source": [
    "# Decision variables\n",
    "# FTE Work Force\n",
    "model.MonthlyFTE = Var(BankLoc, Month, domain=NonNegativeReals)\n",
    "\n",
    "# No. of applications outsourced\n",
    "model.MonthlyOutsource = Var(BankLoc, Month, domain=NonNegativeIntegers)"
   ]
  },
  {
   "cell_type": "code",
   "execution_count": 28,
   "metadata": {},
   "outputs": [],
   "source": [
    "# Defining Objective Function\n",
    "\n",
    "def obj_rule(model):\n",
    "    return(sum(model.MonthlyFTE[i,j]*FTE_monthlySalary[i,j] for i in BankLoc for j in Month) + sum(model.MonthlyOutsource[i,j]*unitOutSourceCost[i,j] for i in BankLoc for j in Month))\n",
    "\n",
    "model.value = Objective(rule=obj_rule, sense=minimize)"
   ]
  },
  {
   "cell_type": "code",
   "execution_count": 29,
   "metadata": {
    "scrolled": false
   },
   "outputs": [],
   "source": [
    "# Defining Constraints\n",
    "\n",
    "# Demand Constraint\n",
    "def fulfill_demand(model,i,j):\n",
    "    return (model.MonthlyFTE[i,j]*staffAvPer_LB[i,j]*FTE_serviceRate + model.MonthlyOutsource[i,j]) == demand[i,j]\n",
    "\n",
    "model.match_demand = Constraint(BankLoc,Month,rule=fulfill_demand)"
   ]
  },
  {
   "cell_type": "code",
   "execution_count": 30,
   "metadata": {},
   "outputs": [],
   "source": [
    "# Regulatory Constraint for outsourced applications for State A\n",
    "\n",
    "def reg_restrict_state_A(model,j):\n",
    "    return (model.MonthlyOutsource['A',j] <= demand['A',j]*0.3)\n",
    "    \n",
    "model.reg_state_A = Constraint(Month,rule=reg_restrict_state_A)\n",
    "\n",
    "\n",
    "# Regulatory Constraint for outsourced applications for State B\n",
    "\n",
    "def reg_restrict_state_B(model,j):\n",
    "    return (model.MonthlyOutsource['B',j] <= demand['B',j]*0.4)\n",
    "    \n",
    "model.reg_state_B = Constraint(Month,rule=reg_restrict_state_B)"
   ]
  },
  {
   "cell_type": "code",
   "execution_count": 31,
   "metadata": {},
   "outputs": [],
   "source": [
    "# Invoking the solver\n",
    "result = SolverFactory('glpk').solve(model)"
   ]
  },
  {
   "cell_type": "code",
   "execution_count": 32,
   "metadata": {},
   "outputs": [
    {
     "data": {
      "text/plain": [
       "19599482.516788766"
      ]
     },
     "execution_count": 32,
     "metadata": {},
     "output_type": "execute_result"
    }
   ],
   "source": [
    "# Print the value of the objective function\n",
    "model.value()"
   ]
  },
  {
   "cell_type": "markdown",
   "metadata": {},
   "source": [
    "**`Checkpoint 2:`** The company has to spend around 19.6 m$ in total for the application approval process if the staffs are working with the minimum availability."
   ]
  },
  {
   "cell_type": "code",
   "execution_count": 33,
   "metadata": {
    "scrolled": true
   },
   "outputs": [
    {
     "data": {
      "text/html": [
       "<div>\n",
       "<style scoped>\n",
       "    .dataframe tbody tr th:only-of-type {\n",
       "        vertical-align: middle;\n",
       "    }\n",
       "\n",
       "    .dataframe tbody tr th {\n",
       "        vertical-align: top;\n",
       "    }\n",
       "\n",
       "    .dataframe thead th {\n",
       "        text-align: right;\n",
       "    }\n",
       "</style>\n",
       "<table border=\"1\" class=\"dataframe\">\n",
       "  <thead>\n",
       "    <tr style=\"text-align: right;\">\n",
       "      <th></th>\n",
       "      <th>State</th>\n",
       "      <th>Month</th>\n",
       "      <th>Demand</th>\n",
       "      <th>Staff_Availability_LB</th>\n",
       "      <th>FTEs</th>\n",
       "      <th>Outsourced_Applications</th>\n",
       "    </tr>\n",
       "  </thead>\n",
       "  <tbody>\n",
       "    <tr>\n",
       "      <th>0</th>\n",
       "      <td>A</td>\n",
       "      <td>Jan</td>\n",
       "      <td>5240</td>\n",
       "      <td>0.70</td>\n",
       "      <td>187.142857</td>\n",
       "      <td>0.0</td>\n",
       "    </tr>\n",
       "    <tr>\n",
       "      <th>1</th>\n",
       "      <td>A</td>\n",
       "      <td>Feb</td>\n",
       "      <td>4878</td>\n",
       "      <td>0.65</td>\n",
       "      <td>131.346154</td>\n",
       "      <td>1463.0</td>\n",
       "    </tr>\n",
       "    <tr>\n",
       "      <th>2</th>\n",
       "      <td>A</td>\n",
       "      <td>Mar</td>\n",
       "      <td>5942</td>\n",
       "      <td>0.70</td>\n",
       "      <td>212.214286</td>\n",
       "      <td>0.0</td>\n",
       "    </tr>\n",
       "    <tr>\n",
       "      <th>3</th>\n",
       "      <td>A</td>\n",
       "      <td>Apr</td>\n",
       "      <td>2297</td>\n",
       "      <td>0.75</td>\n",
       "      <td>76.566667</td>\n",
       "      <td>0.0</td>\n",
       "    </tr>\n",
       "    <tr>\n",
       "      <th>4</th>\n",
       "      <td>A</td>\n",
       "      <td>May</td>\n",
       "      <td>1992</td>\n",
       "      <td>0.70</td>\n",
       "      <td>71.142857</td>\n",
       "      <td>0.0</td>\n",
       "    </tr>\n",
       "    <tr>\n",
       "      <th>5</th>\n",
       "      <td>A</td>\n",
       "      <td>Jun</td>\n",
       "      <td>2275</td>\n",
       "      <td>0.65</td>\n",
       "      <td>61.269231</td>\n",
       "      <td>682.0</td>\n",
       "    </tr>\n",
       "    <tr>\n",
       "      <th>6</th>\n",
       "      <td>A</td>\n",
       "      <td>Jul</td>\n",
       "      <td>5334</td>\n",
       "      <td>0.60</td>\n",
       "      <td>155.583333</td>\n",
       "      <td>1600.0</td>\n",
       "    </tr>\n",
       "    <tr>\n",
       "      <th>7</th>\n",
       "      <td>A</td>\n",
       "      <td>Aug</td>\n",
       "      <td>3371</td>\n",
       "      <td>0.65</td>\n",
       "      <td>90.769231</td>\n",
       "      <td>1011.0</td>\n",
       "    </tr>\n",
       "    <tr>\n",
       "      <th>8</th>\n",
       "      <td>A</td>\n",
       "      <td>Sep</td>\n",
       "      <td>3759</td>\n",
       "      <td>0.70</td>\n",
       "      <td>134.250000</td>\n",
       "      <td>0.0</td>\n",
       "    </tr>\n",
       "    <tr>\n",
       "      <th>9</th>\n",
       "      <td>A</td>\n",
       "      <td>Oct</td>\n",
       "      <td>3529</td>\n",
       "      <td>0.65</td>\n",
       "      <td>95.038462</td>\n",
       "      <td>1058.0</td>\n",
       "    </tr>\n",
       "  </tbody>\n",
       "</table>\n",
       "</div>"
      ],
      "text/plain": [
       "  State Month  Demand  Staff_Availability_LB        FTEs  \\\n",
       "0     A   Jan    5240                   0.70  187.142857   \n",
       "1     A   Feb    4878                   0.65  131.346154   \n",
       "2     A   Mar    5942                   0.70  212.214286   \n",
       "3     A   Apr    2297                   0.75   76.566667   \n",
       "4     A   May    1992                   0.70   71.142857   \n",
       "5     A   Jun    2275                   0.65   61.269231   \n",
       "6     A   Jul    5334                   0.60  155.583333   \n",
       "7     A   Aug    3371                   0.65   90.769231   \n",
       "8     A   Sep    3759                   0.70  134.250000   \n",
       "9     A   Oct    3529                   0.65   95.038462   \n",
       "\n",
       "   Outsourced_Applications  \n",
       "0                      0.0  \n",
       "1                   1463.0  \n",
       "2                      0.0  \n",
       "3                      0.0  \n",
       "4                      0.0  \n",
       "5                    682.0  \n",
       "6                   1600.0  \n",
       "7                   1011.0  \n",
       "8                      0.0  \n",
       "9                   1058.0  "
      ]
     },
     "execution_count": 33,
     "metadata": {},
     "output_type": "execute_result"
    }
   ],
   "source": [
    "# Creating dataframe for the results\n",
    "Staff_Plan = []\n",
    "for i in BankLoc:\n",
    "    for j in Month:\n",
    "        dmd = demand[i,j]\n",
    "        stAv = staffAvPer_LB[i,j]\n",
    "        fte = model.MonthlyFTE[i,j].value\n",
    "        outapp = model.MonthlyOutsource[i,j].value\n",
    "        Staff_Plan.append([i,j,dmd,stAv,fte,outapp]) # making a list of lists\n",
    "        \n",
    "Staff_Plan = pd.DataFrame(Staff_Plan, columns=['State','Month','Demand','Staff_Availability_LB','FTEs','Outsourced_Applications'])\n",
    "Staff_Plan.head(10)"
   ]
  },
  {
   "cell_type": "markdown",
   "metadata": {},
   "source": [
    "#### 3.1.2 Percentage of outsourced applications "
   ]
  },
  {
   "cell_type": "code",
   "execution_count": 34,
   "metadata": {},
   "outputs": [
    {
     "data": {
      "text/plain": [
       "35.14"
      ]
     },
     "execution_count": 34,
     "metadata": {},
     "output_type": "execute_result"
    }
   ],
   "source": [
    "# write your code here\n",
    "PercentOutsourcedApp = ((Staff_Plan['Outsourced_Applications'].sum()/Staff_Plan['Demand'].sum())* 100).round(2)\n",
    "PercentOutsourcedApp"
   ]
  },
  {
   "cell_type": "markdown",
   "metadata": {},
   "source": [
    "#### 3.1.3 Average cost per application"
   ]
  },
  {
   "cell_type": "code",
   "execution_count": 35,
   "metadata": {},
   "outputs": [
    {
     "data": {
      "text/plain": [
       "173.0"
      ]
     },
     "execution_count": 35,
     "metadata": {},
     "output_type": "execute_result"
    }
   ],
   "source": [
    "# write your code here\n",
    "AvgCostPerApp = (model.value()/Staff_Plan['Demand'].sum()).round(2)\n",
    "AvgCostPerApp"
   ]
  },
  {
   "cell_type": "markdown",
   "metadata": {},
   "source": [
    "### 3.2  Best Case Analysis "
   ]
  },
  {
   "cell_type": "markdown",
   "metadata": {},
   "source": [
    "#### 3.2.1 Optimal number of staff members\n"
   ]
  },
  {
   "cell_type": "code",
   "execution_count": 36,
   "metadata": {},
   "outputs": [],
   "source": [
    "# Creating a model instance\n",
    "model = ConcreteModel()"
   ]
  },
  {
   "cell_type": "code",
   "execution_count": 37,
   "metadata": {},
   "outputs": [],
   "source": [
    "# Define Pyomo sets and Parameters -> Already defined in Data Pre-processing"
   ]
  },
  {
   "cell_type": "code",
   "execution_count": 38,
   "metadata": {},
   "outputs": [],
   "source": [
    "# Decision variables\n",
    "# FTE Work Force\n",
    "model.MonthlyFTE = Var(BankLoc, Month, domain=NonNegativeReals)\n",
    "\n",
    "# No. of applications outsourced\n",
    "model.MonthlyOutsource = Var(BankLoc, Month, domain=NonNegativeIntegers)"
   ]
  },
  {
   "cell_type": "code",
   "execution_count": 39,
   "metadata": {},
   "outputs": [],
   "source": [
    "# Defining Objective Function\n",
    "\n",
    "def obj_rule(model):\n",
    "    return(sum(model.MonthlyFTE[i,j]*FTE_monthlySalary[i,j] for i in BankLoc for j in Month) + \n",
    "           sum(model.MonthlyOutsource[i,j]*unitOutSourceCost[i,j] for i in BankLoc for j in Month))\n",
    "\n",
    "model.value = Objective(rule=obj_rule, sense=minimize)"
   ]
  },
  {
   "cell_type": "code",
   "execution_count": 40,
   "metadata": {
    "scrolled": false
   },
   "outputs": [],
   "source": [
    "# Defining Constraints\n",
    "\n",
    "# Demand Constraint\n",
    "def fulfill_demand(model,i,j):\n",
    "    return (model.MonthlyFTE[i,j]*staffAvPer_UB[i,j]*FTE_serviceRate + model.MonthlyOutsource[i,j]) == demand[i,j]\n",
    "\n",
    "model.match_demand = Constraint(BankLoc,Month,rule=fulfill_demand)"
   ]
  },
  {
   "cell_type": "code",
   "execution_count": 41,
   "metadata": {},
   "outputs": [],
   "source": [
    "# Regulatory Constraint for outsourced applications for State A\n",
    "\n",
    "def reg_restrict_state_A(model,j):\n",
    "    return (model.MonthlyOutsource['A',j] <= demand['A',j]*0.3)\n",
    "    \n",
    "model.reg_state_A = Constraint(Month,rule=reg_restrict_state_A)\n",
    "\n",
    "\n",
    "# Regulatory Constraint for outsourced applications for State B\n",
    "\n",
    "def reg_restrict_state_B(model,j):\n",
    "    return (model.MonthlyOutsource['B',j] <= demand['B',j]*0.4)\n",
    "    \n",
    "model.reg_state_B = Constraint(Month,rule=reg_restrict_state_B)"
   ]
  },
  {
   "cell_type": "code",
   "execution_count": 42,
   "metadata": {},
   "outputs": [],
   "source": [
    "# Invoking the solver\n",
    "result = SolverFactory('glpk').solve(model)"
   ]
  },
  {
   "cell_type": "code",
   "execution_count": 43,
   "metadata": {},
   "outputs": [
    {
     "data": {
      "text/plain": [
       "16527535.63793573"
      ]
     },
     "execution_count": 43,
     "metadata": {},
     "output_type": "execute_result"
    }
   ],
   "source": [
    "# Print the value of the objective function\n",
    "model.value()"
   ]
  },
  {
   "cell_type": "markdown",
   "metadata": {},
   "source": [
    "**`Checkpoint 3:`** The company has to spend around 16.5 m$ in total for the application approval process if the staffs are working with the maximum availability."
   ]
  },
  {
   "cell_type": "code",
   "execution_count": 44,
   "metadata": {},
   "outputs": [
    {
     "data": {
      "text/html": [
       "<div>\n",
       "<style scoped>\n",
       "    .dataframe tbody tr th:only-of-type {\n",
       "        vertical-align: middle;\n",
       "    }\n",
       "\n",
       "    .dataframe tbody tr th {\n",
       "        vertical-align: top;\n",
       "    }\n",
       "\n",
       "    .dataframe thead th {\n",
       "        text-align: right;\n",
       "    }\n",
       "</style>\n",
       "<table border=\"1\" class=\"dataframe\">\n",
       "  <thead>\n",
       "    <tr style=\"text-align: right;\">\n",
       "      <th></th>\n",
       "      <th>State</th>\n",
       "      <th>Month</th>\n",
       "      <th>Demand</th>\n",
       "      <th>Staff_Availability_UB</th>\n",
       "      <th>FTEs</th>\n",
       "      <th>Outsourced_Applications</th>\n",
       "    </tr>\n",
       "  </thead>\n",
       "  <tbody>\n",
       "    <tr>\n",
       "      <th>0</th>\n",
       "      <td>A</td>\n",
       "      <td>Jan</td>\n",
       "      <td>5240</td>\n",
       "      <td>0.90</td>\n",
       "      <td>145.555556</td>\n",
       "      <td>0.0</td>\n",
       "    </tr>\n",
       "    <tr>\n",
       "      <th>1</th>\n",
       "      <td>A</td>\n",
       "      <td>Feb</td>\n",
       "      <td>4878</td>\n",
       "      <td>0.85</td>\n",
       "      <td>143.470588</td>\n",
       "      <td>0.0</td>\n",
       "    </tr>\n",
       "    <tr>\n",
       "      <th>2</th>\n",
       "      <td>A</td>\n",
       "      <td>Mar</td>\n",
       "      <td>5942</td>\n",
       "      <td>0.80</td>\n",
       "      <td>185.687500</td>\n",
       "      <td>0.0</td>\n",
       "    </tr>\n",
       "    <tr>\n",
       "      <th>3</th>\n",
       "      <td>A</td>\n",
       "      <td>Apr</td>\n",
       "      <td>2297</td>\n",
       "      <td>0.85</td>\n",
       "      <td>67.558824</td>\n",
       "      <td>0.0</td>\n",
       "    </tr>\n",
       "    <tr>\n",
       "      <th>4</th>\n",
       "      <td>A</td>\n",
       "      <td>May</td>\n",
       "      <td>1992</td>\n",
       "      <td>0.85</td>\n",
       "      <td>58.588235</td>\n",
       "      <td>0.0</td>\n",
       "    </tr>\n",
       "    <tr>\n",
       "      <th>5</th>\n",
       "      <td>A</td>\n",
       "      <td>Jun</td>\n",
       "      <td>2275</td>\n",
       "      <td>0.80</td>\n",
       "      <td>71.093750</td>\n",
       "      <td>0.0</td>\n",
       "    </tr>\n",
       "    <tr>\n",
       "      <th>6</th>\n",
       "      <td>A</td>\n",
       "      <td>Jul</td>\n",
       "      <td>5334</td>\n",
       "      <td>0.75</td>\n",
       "      <td>177.800000</td>\n",
       "      <td>0.0</td>\n",
       "    </tr>\n",
       "    <tr>\n",
       "      <th>7</th>\n",
       "      <td>A</td>\n",
       "      <td>Aug</td>\n",
       "      <td>3371</td>\n",
       "      <td>0.85</td>\n",
       "      <td>99.147059</td>\n",
       "      <td>0.0</td>\n",
       "    </tr>\n",
       "    <tr>\n",
       "      <th>8</th>\n",
       "      <td>A</td>\n",
       "      <td>Sep</td>\n",
       "      <td>3759</td>\n",
       "      <td>0.90</td>\n",
       "      <td>104.416667</td>\n",
       "      <td>0.0</td>\n",
       "    </tr>\n",
       "    <tr>\n",
       "      <th>9</th>\n",
       "      <td>A</td>\n",
       "      <td>Oct</td>\n",
       "      <td>3529</td>\n",
       "      <td>0.80</td>\n",
       "      <td>110.281250</td>\n",
       "      <td>0.0</td>\n",
       "    </tr>\n",
       "  </tbody>\n",
       "</table>\n",
       "</div>"
      ],
      "text/plain": [
       "  State Month  Demand  Staff_Availability_UB        FTEs  \\\n",
       "0     A   Jan    5240                   0.90  145.555556   \n",
       "1     A   Feb    4878                   0.85  143.470588   \n",
       "2     A   Mar    5942                   0.80  185.687500   \n",
       "3     A   Apr    2297                   0.85   67.558824   \n",
       "4     A   May    1992                   0.85   58.588235   \n",
       "5     A   Jun    2275                   0.80   71.093750   \n",
       "6     A   Jul    5334                   0.75  177.800000   \n",
       "7     A   Aug    3371                   0.85   99.147059   \n",
       "8     A   Sep    3759                   0.90  104.416667   \n",
       "9     A   Oct    3529                   0.80  110.281250   \n",
       "\n",
       "   Outsourced_Applications  \n",
       "0                      0.0  \n",
       "1                      0.0  \n",
       "2                      0.0  \n",
       "3                      0.0  \n",
       "4                      0.0  \n",
       "5                      0.0  \n",
       "6                      0.0  \n",
       "7                      0.0  \n",
       "8                      0.0  \n",
       "9                      0.0  "
      ]
     },
     "execution_count": 44,
     "metadata": {},
     "output_type": "execute_result"
    }
   ],
   "source": [
    "# Creating dataframe for the results\n",
    "Staff_Plan = []\n",
    "for i in BankLoc:\n",
    "    for j in Month:\n",
    "        dmd = demand[i,j]\n",
    "        stAv = staffAvPer_UB[i,j]\n",
    "        fte = model.MonthlyFTE[i,j].value\n",
    "        outapp = model.MonthlyOutsource[i,j].value\n",
    "        Staff_Plan.append([i,j,dmd,stAv,fte,outapp]) # making a list of lists\n",
    "        \n",
    "Staff_Plan = pd.DataFrame(Staff_Plan, columns=['State','Month','Demand','Staff_Availability_UB','FTEs','Outsourced_Applications'])\n",
    "Staff_Plan.head(10)"
   ]
  },
  {
   "cell_type": "markdown",
   "metadata": {},
   "source": [
    "#### 3.2.2 Percentage of outsourced applications"
   ]
  },
  {
   "cell_type": "code",
   "execution_count": 45,
   "metadata": {},
   "outputs": [
    {
     "data": {
      "text/plain": [
       "4.11"
      ]
     },
     "execution_count": 45,
     "metadata": {},
     "output_type": "execute_result"
    }
   ],
   "source": [
    "# write your code here\n",
    "PercentOutsourcedApp = ((Staff_Plan['Outsourced_Applications'].sum()/Staff_Plan['Demand'].sum())* 100).round(2)\n",
    "PercentOutsourcedApp"
   ]
  },
  {
   "cell_type": "markdown",
   "metadata": {},
   "source": [
    "#### 3.2.3 Average cost per application"
   ]
  },
  {
   "cell_type": "code",
   "execution_count": 46,
   "metadata": {},
   "outputs": [
    {
     "data": {
      "text/plain": [
       "145.88"
      ]
     },
     "execution_count": 46,
     "metadata": {},
     "output_type": "execute_result"
    }
   ],
   "source": [
    "# write your code here\n",
    "AvgCostPerApp = (model.value()/Staff_Plan['Demand'].sum()).round(2)\n",
    "AvgCostPerApp"
   ]
  },
  {
   "cell_type": "markdown",
   "metadata": {},
   "source": [
    "# Question 4\n",
    "\n",
    "#### Creating Visualisations"
   ]
  },
  {
   "cell_type": "markdown",
   "metadata": {},
   "source": [
    "Create the following visualisations using your preferred method (i.e. Python, PowerPoint, Power BI, etc.) and add it to your report. \n",
    "\n",
    "Use the solution of Q2 to create a stacked column chart that shows the percentage of applications processed by the staff and by the vendor for each month (%staff processed applications+ %vendor processed applications should add up to 100%). \n",
    "Create a graph to show how the cost per application increases with respect to any change in the parameters in your analysis.\n",
    "Hint: Use the cost per application that you calculate in Questions 2 and 3 (i.e., the best case, and the worst case). "
   ]
  },
  {
   "cell_type": "markdown",
   "metadata": {},
   "source": [
    "**Note:** You can create the charts in Python or some other visualisation tools and make it a part of your final report directly."
   ]
  },
  {
   "cell_type": "markdown",
   "metadata": {},
   "source": [
    "Kindly refer to the final report for visualizations & insights."
   ]
  },
  {
   "cell_type": "markdown",
   "metadata": {},
   "source": [
    "#### Thank You!"
   ]
  }
 ],
 "metadata": {
  "kernelspec": {
   "display_name": "Python 3",
   "language": "python",
   "name": "python3"
  },
  "language_info": {
   "codemirror_mode": {
    "name": "ipython",
    "version": 3
   },
   "file_extension": ".py",
   "mimetype": "text/x-python",
   "name": "python",
   "nbconvert_exporter": "python",
   "pygments_lexer": "ipython3",
   "version": "3.8.8"
  }
 },
 "nbformat": 4,
 "nbformat_minor": 2
}
